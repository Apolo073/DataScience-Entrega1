{
  "nbformat": 4,
  "nbformat_minor": 0,
  "metadata": {
    "colab": {
      "provenance": [],
      "name": "Comportamiento_Compra+Stein.ipynb",
      "authorship_tag": "ABX9TyM4v3usQtsLpCwnC3QhsTKf",
      "include_colab_link": true
    },
    "kernelspec": {
      "name": "python3",
      "display_name": "Python 3"
    },
    "language_info": {
      "name": "python"
    }
  },
  "cells": [
    {
      "cell_type": "markdown",
      "metadata": {
        "id": "view-in-github",
        "colab_type": "text"
      },
      "source": [
        "<a href=\"https://colab.research.google.com/github/Apolo073/DataScience-Entrega1/blob/main/Comportamiento_Compra%2BStein.ipynb\" target=\"_parent\"><img src=\"https://colab.research.google.com/assets/colab-badge.svg\" alt=\"Open In Colab\"/></a>"
      ]
    },
    {
      "cell_type": "markdown",
      "source": [
        "# DATA SCIENCE CODERHOUSE [#61750]"
      ],
      "metadata": {
        "id": "-xHPdEyAZckk"
      }
    },
    {
      "cell_type": "markdown",
      "source": [
        "ALUMNO: STEIN NAHUEL"
      ],
      "metadata": {
        "id": "08gP-4u7ABRz"
      }
    },
    {
      "cell_type": "markdown",
      "source": [
        "## INTRODUCCIÓN"
      ],
      "metadata": {
        "id": "p1aBEwATAPGx"
      }
    },
    {
      "cell_type": "markdown",
      "source": [
        "En el ámbito del análisis de datos y la predicción de costos en campañas de marketing, es crucial entender los patrones de consumo y las preferencias de los clientes. Este trabajo práctico se enfoca en analizar un conjunto de datos de una cadena de supermercados en EE. UU., México y Canadá, con el objetivo de validar varias hipótesis relacionadas con el comportamiento de compra de los clientes. Se busca obtener insights valiosos que puedan guiar estrategias de marketing más efectivas y personalizadas."
      ],
      "metadata": {
        "id": "tugHxT3GwBYk"
      }
    },
    {
      "cell_type": "markdown",
      "source": [
        "## DESCRIPCIÓN DEL PROBLEMA\n",
        "\n",
        "El objetivo principal de este análisis es descubrir y confirmar patrones específicos en el comportamiento de compra de los clientes, que puedan impactar tanto en el costo como en la efectividad de las campañas de marketing. Es esencial entender cómo las distintas variables influyen en las decisiones de compra y los costos asociados a las campañas, para poder así diseñar estrategias de marketing más efectivas."
      ],
      "metadata": {
        "id": "lFOsvwWgAO51"
      }
    },
    {
      "cell_type": "markdown",
      "source": [
        "## OBJETIVO\n",
        "\n",
        "El objetivo de este trabajo práctico es validar las hipótesis que se plantearán utilizando el conjunto de datos proporcionado.\n",
        "\n",
        "Para lograr este objetivo, se utilizarán técnicas de análisis de datos y visualización en Python. Con este análisis se buscará obtener insights valiosos sobre el comportamiento de los consumidores y las estrategias de marketing más efectivas para diferentes segmentos de clientes."
      ],
      "metadata": {
        "id": "x1ix0FCfAOsp"
      }
    },
    {
      "cell_type": "markdown",
      "source": [
        "## FUENTE\n",
        "\n",
        "Los datos utilizados en este trabajo fueron obtenidos de Kaggle y se encuentran disponibles en el siguiente enlace: https://www.kaggle.com/datasets/yasserh/loan-default-dataset\n"
      ],
      "metadata": {
        "id": "NdFGalq9Altt"
      }
    },
    {
      "cell_type": "markdown",
      "source": [
        "## **DESARROLLO**:"
      ],
      "metadata": {
        "id": "_RiF8Wlks1v7"
      }
    },
    {
      "cell_type": "markdown",
      "source": [
        "### IMPORTACIÓN DE LIBRERIAS"
      ],
      "metadata": {
        "id": "eBOTTskJZlG7"
      }
    },
    {
      "cell_type": "code",
      "source": [
        "import pandas as pd\n",
        "import numpy as np\n",
        "import seaborn as sb\n",
        "import matplotlib.pyplot as plt\n",
        "from matplotlib.ticker import PercentFormatter"
      ],
      "metadata": {
        "id": "NR7f7KENZsbz"
      },
      "execution_count": null,
      "outputs": []
    },
    {
      "cell_type": "markdown",
      "source": [
        "### CARGA BASE DE DATOS"
      ],
      "metadata": {
        "id": "XoCopXD5aaj-"
      }
    },
    {
      "cell_type": "code",
      "source": [
        "url = \"https://raw.githubusercontent.com/Apolo073/DataScience-Entrega1/refs/heads/main/media%20prediction%20and%20its%20cost.csv\"\n",
        "df = pd.read_csv(url)\n",
        "df.shape"
      ],
      "metadata": {
        "id": "kvTWY_m1Z3oD",
        "colab": {
          "base_uri": "https://localhost:8080/"
        },
        "outputId": "5dec444a-5cab-4451-90ab-2763e84ac6be"
      },
      "execution_count": null,
      "outputs": [
        {
          "output_type": "execute_result",
          "data": {
            "text/plain": [
              "(60428, 40)"
            ]
          },
          "metadata": {},
          "execution_count": 5
        }
      ]
    },
    {
      "cell_type": "markdown",
      "source": [
        "### EXPLORACIÓN DE DATOS\n",
        "\n",
        "##### En esta sección, exploramos el conjunto de datos para comprender sus características y distribuciones. Esto nos ayudará a identificar patrones y relaciones entre las variables.\n",
        "\n",
        "Resumen Inicial: Mostrar las primeras filas del DataFrame y obtener una vista previa de los datos.\n",
        "Estadísticas Descriptivas: Calcular estadísticas descriptivas como media, mediana, desviación estándar, etc.\n",
        "Distribuciones: Visualizar las distribuciones de las variables numéricas y categóricas.\n",
        "Gráficos Exploratorios: Crear gráficos como histogramas, diagramas de dispersión, y diagramas de caja para explorar los datos."
      ],
      "metadata": {
        "id": "Yumj-QXLG9RH"
      }
    },
    {
      "cell_type": "markdown",
      "source": [
        "#### TIPOS DE DATOS"
      ],
      "metadata": {
        "id": "zNph2ihVciHt"
      }
    },
    {
      "cell_type": "code",
      "source": [
        "df.info()"
      ],
      "metadata": {
        "colab": {
          "base_uri": "https://localhost:8080/"
        },
        "id": "dN-heEsqcAUt",
        "outputId": "8ef873bc-320e-46d9-cfee-75bf36d40bbf"
      },
      "execution_count": null,
      "outputs": [
        {
          "output_type": "stream",
          "name": "stdout",
          "text": [
            "<class 'pandas.core.frame.DataFrame'>\n",
            "RangeIndex: 60428 entries, 0 to 60427\n",
            "Data columns (total 40 columns):\n",
            " #   Column                      Non-Null Count  Dtype  \n",
            "---  ------                      --------------  -----  \n",
            " 0   food_category               60428 non-null  object \n",
            " 1   food_department             60428 non-null  object \n",
            " 2   food_family                 60428 non-null  object \n",
            " 3   store_sales(in millions)    60428 non-null  float64\n",
            " 4   store_cost(in millions)     60428 non-null  float64\n",
            " 5   unit_sales(in millions)     60428 non-null  float64\n",
            " 6   promotion_name              60428 non-null  object \n",
            " 7   sales_country               60428 non-null  object \n",
            " 8   marital_status              60428 non-null  object \n",
            " 9   gender                      60428 non-null  object \n",
            " 10  total_children              60428 non-null  float64\n",
            " 11  education                   60428 non-null  object \n",
            " 12  member_card                 60428 non-null  object \n",
            " 13  occupation                  60428 non-null  object \n",
            " 14  houseowner                  60428 non-null  object \n",
            " 15  avg_cars_at home(approx)    60428 non-null  float64\n",
            " 16  avg. yearly_income          60428 non-null  object \n",
            " 17  num_children_at_home        60428 non-null  float64\n",
            " 18  avg_cars_at home(approx).1  60428 non-null  float64\n",
            " 19  brand_name                  60428 non-null  object \n",
            " 20  SRP                         60428 non-null  float64\n",
            " 21  gross_weight                60428 non-null  float64\n",
            " 22  net_weight                  60428 non-null  float64\n",
            " 23  recyclable_package          60428 non-null  float64\n",
            " 24  low_fat                     60428 non-null  float64\n",
            " 25  units_per_case              60428 non-null  float64\n",
            " 26  store_type                  60428 non-null  object \n",
            " 27  store_city                  60428 non-null  object \n",
            " 28  store_state                 60428 non-null  object \n",
            " 29  store_sqft                  60428 non-null  float64\n",
            " 30  grocery_sqft                60428 non-null  float64\n",
            " 31  frozen_sqft                 60428 non-null  float64\n",
            " 32  meat_sqft                   60428 non-null  float64\n",
            " 33  coffee_bar                  60428 non-null  float64\n",
            " 34  video_store                 60428 non-null  float64\n",
            " 35  salad_bar                   60428 non-null  float64\n",
            " 36  prepared_food               60428 non-null  float64\n",
            " 37  florist                     60428 non-null  float64\n",
            " 38  media_type                  60428 non-null  object \n",
            " 39  cost                        60428 non-null  float64\n",
            "dtypes: float64(23), object(17)\n",
            "memory usage: 18.4+ MB\n"
          ]
        }
      ]
    },
    {
      "cell_type": "markdown",
      "source": [
        "El conjunto de datos contiene un total de 60428 (registros) y 40 columnas (variables).\n",
        "\n",
        "No se observan columnas con valores faltantes (non-null count igual que el número total de filas).\n"
      ],
      "metadata": {
        "id": "kClqoOwQH5uG"
      }
    },
    {
      "cell_type": "markdown",
      "source": [
        "#### DESCRIPCIÓN DE LOS DATOS"
      ],
      "metadata": {
        "id": "qjtScDp9dOT0"
      }
    },
    {
      "cell_type": "code",
      "source": [
        "df.describe()"
      ],
      "metadata": {
        "colab": {
          "base_uri": "https://localhost:8080/",
          "height": 367
        },
        "id": "vGb8m_28KAuK",
        "outputId": "0cd2b4dc-41da-4480-d277-b79e200687c5"
      },
      "execution_count": null,
      "outputs": [
        {
          "output_type": "execute_result",
          "data": {
            "text/plain": [
              "       store_sales(in millions)  store_cost(in millions)  \\\n",
              "count              60428.000000             60428.000000   \n",
              "mean                   6.541031                 2.619460   \n",
              "std                    3.463047                 1.453009   \n",
              "min                    0.510000                 0.163200   \n",
              "25%                    3.810000                 1.500000   \n",
              "50%                    5.940000                 2.385600   \n",
              "75%                    8.670000                 3.484025   \n",
              "max                   22.920000                 9.726500   \n",
              "\n",
              "       unit_sales(in millions)  total_children  avg_cars_at home(approx)  \\\n",
              "count             60428.000000    60428.000000              60428.000000   \n",
              "mean                  3.093169        2.533875                  2.200271   \n",
              "std                   0.827677        1.490165                  1.109644   \n",
              "min                   1.000000        0.000000                  0.000000   \n",
              "25%                   3.000000        1.000000                  1.000000   \n",
              "50%                   3.000000        3.000000                  2.000000   \n",
              "75%                   4.000000        4.000000                  3.000000   \n",
              "max                   6.000000        5.000000                  4.000000   \n",
              "\n",
              "       num_children_at_home  avg_cars_at home(approx).1           SRP  \\\n",
              "count          60428.000000                60428.000000  60428.000000   \n",
              "mean               0.829351                    2.200271      2.115258   \n",
              "std                1.303424                    1.109644      0.932829   \n",
              "min                0.000000                    0.000000      0.500000   \n",
              "25%                0.000000                    1.000000      1.410000   \n",
              "50%                0.000000                    2.000000      2.130000   \n",
              "75%                1.000000                    3.000000      2.790000   \n",
              "max                5.000000                    4.000000      3.980000   \n",
              "\n",
              "       gross_weight    net_weight  ...    store_sqft  grocery_sqft  \\\n",
              "count  60428.000000  60428.000000  ...  60428.000000  60428.000000   \n",
              "mean      13.806433     11.796289  ...  27988.477494  19133.799696   \n",
              "std        4.622693      4.682986  ...   5701.022090   3987.395735   \n",
              "min        6.000000      3.050000  ...  20319.000000  13305.000000   \n",
              "25%        9.700000      7.710000  ...  23593.000000  16232.000000   \n",
              "50%       13.600000     11.600000  ...  27694.000000  18670.000000   \n",
              "75%       17.700000     16.000000  ...  30797.000000  22123.000000   \n",
              "max       21.900000     20.800000  ...  39696.000000  30351.000000   \n",
              "\n",
              "        frozen_sqft     meat_sqft    coffee_bar   video_store     salad_bar  \\\n",
              "count  60428.000000  60428.000000  60428.000000  60428.000000  60428.000000   \n",
              "mean    5312.852552   3541.846280      0.612646      0.354157      0.587956   \n",
              "std     1575.907263   1050.471635      0.487150      0.478261      0.492207   \n",
              "min     2452.000000   1635.000000      0.000000      0.000000      0.000000   \n",
              "25%     4746.000000   3164.000000      0.000000      0.000000      0.000000   \n",
              "50%     5062.000000   3375.000000      1.000000      0.000000      1.000000   \n",
              "75%     5751.000000   3834.000000      1.000000      1.000000      1.000000   \n",
              "max     9184.000000   6122.000000      1.000000      1.000000      1.000000   \n",
              "\n",
              "       prepared_food       florist          cost  \n",
              "count   60428.000000  60428.000000  60428.000000  \n",
              "mean        0.587956      0.562603     99.262366  \n",
              "std         0.492207      0.496069     30.011257  \n",
              "min         0.000000      0.000000     50.790000  \n",
              "25%         0.000000      0.000000     69.650000  \n",
              "50%         1.000000      1.000000     98.520000  \n",
              "75%         1.000000      1.000000    126.620000  \n",
              "max         1.000000      1.000000    149.750000  \n",
              "\n",
              "[8 rows x 23 columns]"
            ],
            "text/html": [
              "\n",
              "  <div id=\"df-5d637b80-1a00-4da6-aab0-ebbe6a2b3039\" class=\"colab-df-container\">\n",
              "    <div>\n",
              "<style scoped>\n",
              "    .dataframe tbody tr th:only-of-type {\n",
              "        vertical-align: middle;\n",
              "    }\n",
              "\n",
              "    .dataframe tbody tr th {\n",
              "        vertical-align: top;\n",
              "    }\n",
              "\n",
              "    .dataframe thead th {\n",
              "        text-align: right;\n",
              "    }\n",
              "</style>\n",
              "<table border=\"1\" class=\"dataframe\">\n",
              "  <thead>\n",
              "    <tr style=\"text-align: right;\">\n",
              "      <th></th>\n",
              "      <th>store_sales(in millions)</th>\n",
              "      <th>store_cost(in millions)</th>\n",
              "      <th>unit_sales(in millions)</th>\n",
              "      <th>total_children</th>\n",
              "      <th>avg_cars_at home(approx)</th>\n",
              "      <th>num_children_at_home</th>\n",
              "      <th>avg_cars_at home(approx).1</th>\n",
              "      <th>SRP</th>\n",
              "      <th>gross_weight</th>\n",
              "      <th>net_weight</th>\n",
              "      <th>...</th>\n",
              "      <th>store_sqft</th>\n",
              "      <th>grocery_sqft</th>\n",
              "      <th>frozen_sqft</th>\n",
              "      <th>meat_sqft</th>\n",
              "      <th>coffee_bar</th>\n",
              "      <th>video_store</th>\n",
              "      <th>salad_bar</th>\n",
              "      <th>prepared_food</th>\n",
              "      <th>florist</th>\n",
              "      <th>cost</th>\n",
              "    </tr>\n",
              "  </thead>\n",
              "  <tbody>\n",
              "    <tr>\n",
              "      <th>count</th>\n",
              "      <td>60428.000000</td>\n",
              "      <td>60428.000000</td>\n",
              "      <td>60428.000000</td>\n",
              "      <td>60428.000000</td>\n",
              "      <td>60428.000000</td>\n",
              "      <td>60428.000000</td>\n",
              "      <td>60428.000000</td>\n",
              "      <td>60428.000000</td>\n",
              "      <td>60428.000000</td>\n",
              "      <td>60428.000000</td>\n",
              "      <td>...</td>\n",
              "      <td>60428.000000</td>\n",
              "      <td>60428.000000</td>\n",
              "      <td>60428.000000</td>\n",
              "      <td>60428.000000</td>\n",
              "      <td>60428.000000</td>\n",
              "      <td>60428.000000</td>\n",
              "      <td>60428.000000</td>\n",
              "      <td>60428.000000</td>\n",
              "      <td>60428.000000</td>\n",
              "      <td>60428.000000</td>\n",
              "    </tr>\n",
              "    <tr>\n",
              "      <th>mean</th>\n",
              "      <td>6.541031</td>\n",
              "      <td>2.619460</td>\n",
              "      <td>3.093169</td>\n",
              "      <td>2.533875</td>\n",
              "      <td>2.200271</td>\n",
              "      <td>0.829351</td>\n",
              "      <td>2.200271</td>\n",
              "      <td>2.115258</td>\n",
              "      <td>13.806433</td>\n",
              "      <td>11.796289</td>\n",
              "      <td>...</td>\n",
              "      <td>27988.477494</td>\n",
              "      <td>19133.799696</td>\n",
              "      <td>5312.852552</td>\n",
              "      <td>3541.846280</td>\n",
              "      <td>0.612646</td>\n",
              "      <td>0.354157</td>\n",
              "      <td>0.587956</td>\n",
              "      <td>0.587956</td>\n",
              "      <td>0.562603</td>\n",
              "      <td>99.262366</td>\n",
              "    </tr>\n",
              "    <tr>\n",
              "      <th>std</th>\n",
              "      <td>3.463047</td>\n",
              "      <td>1.453009</td>\n",
              "      <td>0.827677</td>\n",
              "      <td>1.490165</td>\n",
              "      <td>1.109644</td>\n",
              "      <td>1.303424</td>\n",
              "      <td>1.109644</td>\n",
              "      <td>0.932829</td>\n",
              "      <td>4.622693</td>\n",
              "      <td>4.682986</td>\n",
              "      <td>...</td>\n",
              "      <td>5701.022090</td>\n",
              "      <td>3987.395735</td>\n",
              "      <td>1575.907263</td>\n",
              "      <td>1050.471635</td>\n",
              "      <td>0.487150</td>\n",
              "      <td>0.478261</td>\n",
              "      <td>0.492207</td>\n",
              "      <td>0.492207</td>\n",
              "      <td>0.496069</td>\n",
              "      <td>30.011257</td>\n",
              "    </tr>\n",
              "    <tr>\n",
              "      <th>min</th>\n",
              "      <td>0.510000</td>\n",
              "      <td>0.163200</td>\n",
              "      <td>1.000000</td>\n",
              "      <td>0.000000</td>\n",
              "      <td>0.000000</td>\n",
              "      <td>0.000000</td>\n",
              "      <td>0.000000</td>\n",
              "      <td>0.500000</td>\n",
              "      <td>6.000000</td>\n",
              "      <td>3.050000</td>\n",
              "      <td>...</td>\n",
              "      <td>20319.000000</td>\n",
              "      <td>13305.000000</td>\n",
              "      <td>2452.000000</td>\n",
              "      <td>1635.000000</td>\n",
              "      <td>0.000000</td>\n",
              "      <td>0.000000</td>\n",
              "      <td>0.000000</td>\n",
              "      <td>0.000000</td>\n",
              "      <td>0.000000</td>\n",
              "      <td>50.790000</td>\n",
              "    </tr>\n",
              "    <tr>\n",
              "      <th>25%</th>\n",
              "      <td>3.810000</td>\n",
              "      <td>1.500000</td>\n",
              "      <td>3.000000</td>\n",
              "      <td>1.000000</td>\n",
              "      <td>1.000000</td>\n",
              "      <td>0.000000</td>\n",
              "      <td>1.000000</td>\n",
              "      <td>1.410000</td>\n",
              "      <td>9.700000</td>\n",
              "      <td>7.710000</td>\n",
              "      <td>...</td>\n",
              "      <td>23593.000000</td>\n",
              "      <td>16232.000000</td>\n",
              "      <td>4746.000000</td>\n",
              "      <td>3164.000000</td>\n",
              "      <td>0.000000</td>\n",
              "      <td>0.000000</td>\n",
              "      <td>0.000000</td>\n",
              "      <td>0.000000</td>\n",
              "      <td>0.000000</td>\n",
              "      <td>69.650000</td>\n",
              "    </tr>\n",
              "    <tr>\n",
              "      <th>50%</th>\n",
              "      <td>5.940000</td>\n",
              "      <td>2.385600</td>\n",
              "      <td>3.000000</td>\n",
              "      <td>3.000000</td>\n",
              "      <td>2.000000</td>\n",
              "      <td>0.000000</td>\n",
              "      <td>2.000000</td>\n",
              "      <td>2.130000</td>\n",
              "      <td>13.600000</td>\n",
              "      <td>11.600000</td>\n",
              "      <td>...</td>\n",
              "      <td>27694.000000</td>\n",
              "      <td>18670.000000</td>\n",
              "      <td>5062.000000</td>\n",
              "      <td>3375.000000</td>\n",
              "      <td>1.000000</td>\n",
              "      <td>0.000000</td>\n",
              "      <td>1.000000</td>\n",
              "      <td>1.000000</td>\n",
              "      <td>1.000000</td>\n",
              "      <td>98.520000</td>\n",
              "    </tr>\n",
              "    <tr>\n",
              "      <th>75%</th>\n",
              "      <td>8.670000</td>\n",
              "      <td>3.484025</td>\n",
              "      <td>4.000000</td>\n",
              "      <td>4.000000</td>\n",
              "      <td>3.000000</td>\n",
              "      <td>1.000000</td>\n",
              "      <td>3.000000</td>\n",
              "      <td>2.790000</td>\n",
              "      <td>17.700000</td>\n",
              "      <td>16.000000</td>\n",
              "      <td>...</td>\n",
              "      <td>30797.000000</td>\n",
              "      <td>22123.000000</td>\n",
              "      <td>5751.000000</td>\n",
              "      <td>3834.000000</td>\n",
              "      <td>1.000000</td>\n",
              "      <td>1.000000</td>\n",
              "      <td>1.000000</td>\n",
              "      <td>1.000000</td>\n",
              "      <td>1.000000</td>\n",
              "      <td>126.620000</td>\n",
              "    </tr>\n",
              "    <tr>\n",
              "      <th>max</th>\n",
              "      <td>22.920000</td>\n",
              "      <td>9.726500</td>\n",
              "      <td>6.000000</td>\n",
              "      <td>5.000000</td>\n",
              "      <td>4.000000</td>\n",
              "      <td>5.000000</td>\n",
              "      <td>4.000000</td>\n",
              "      <td>3.980000</td>\n",
              "      <td>21.900000</td>\n",
              "      <td>20.800000</td>\n",
              "      <td>...</td>\n",
              "      <td>39696.000000</td>\n",
              "      <td>30351.000000</td>\n",
              "      <td>9184.000000</td>\n",
              "      <td>6122.000000</td>\n",
              "      <td>1.000000</td>\n",
              "      <td>1.000000</td>\n",
              "      <td>1.000000</td>\n",
              "      <td>1.000000</td>\n",
              "      <td>1.000000</td>\n",
              "      <td>149.750000</td>\n",
              "    </tr>\n",
              "  </tbody>\n",
              "</table>\n",
              "<p>8 rows × 23 columns</p>\n",
              "</div>\n",
              "    <div class=\"colab-df-buttons\">\n",
              "\n",
              "  <div class=\"colab-df-container\">\n",
              "    <button class=\"colab-df-convert\" onclick=\"convertToInteractive('df-5d637b80-1a00-4da6-aab0-ebbe6a2b3039')\"\n",
              "            title=\"Convert this dataframe to an interactive table.\"\n",
              "            style=\"display:none;\">\n",
              "\n",
              "  <svg xmlns=\"http://www.w3.org/2000/svg\" height=\"24px\" viewBox=\"0 -960 960 960\">\n",
              "    <path d=\"M120-120v-720h720v720H120Zm60-500h600v-160H180v160Zm220 220h160v-160H400v160Zm0 220h160v-160H400v160ZM180-400h160v-160H180v160Zm440 0h160v-160H620v160ZM180-180h160v-160H180v160Zm440 0h160v-160H620v160Z\"/>\n",
              "  </svg>\n",
              "    </button>\n",
              "\n",
              "  <style>\n",
              "    .colab-df-container {\n",
              "      display:flex;\n",
              "      gap: 12px;\n",
              "    }\n",
              "\n",
              "    .colab-df-convert {\n",
              "      background-color: #E8F0FE;\n",
              "      border: none;\n",
              "      border-radius: 50%;\n",
              "      cursor: pointer;\n",
              "      display: none;\n",
              "      fill: #1967D2;\n",
              "      height: 32px;\n",
              "      padding: 0 0 0 0;\n",
              "      width: 32px;\n",
              "    }\n",
              "\n",
              "    .colab-df-convert:hover {\n",
              "      background-color: #E2EBFA;\n",
              "      box-shadow: 0px 1px 2px rgba(60, 64, 67, 0.3), 0px 1px 3px 1px rgba(60, 64, 67, 0.15);\n",
              "      fill: #174EA6;\n",
              "    }\n",
              "\n",
              "    .colab-df-buttons div {\n",
              "      margin-bottom: 4px;\n",
              "    }\n",
              "\n",
              "    [theme=dark] .colab-df-convert {\n",
              "      background-color: #3B4455;\n",
              "      fill: #D2E3FC;\n",
              "    }\n",
              "\n",
              "    [theme=dark] .colab-df-convert:hover {\n",
              "      background-color: #434B5C;\n",
              "      box-shadow: 0px 1px 3px 1px rgba(0, 0, 0, 0.15);\n",
              "      filter: drop-shadow(0px 1px 2px rgba(0, 0, 0, 0.3));\n",
              "      fill: #FFFFFF;\n",
              "    }\n",
              "  </style>\n",
              "\n",
              "    <script>\n",
              "      const buttonEl =\n",
              "        document.querySelector('#df-5d637b80-1a00-4da6-aab0-ebbe6a2b3039 button.colab-df-convert');\n",
              "      buttonEl.style.display =\n",
              "        google.colab.kernel.accessAllowed ? 'block' : 'none';\n",
              "\n",
              "      async function convertToInteractive(key) {\n",
              "        const element = document.querySelector('#df-5d637b80-1a00-4da6-aab0-ebbe6a2b3039');\n",
              "        const dataTable =\n",
              "          await google.colab.kernel.invokeFunction('convertToInteractive',\n",
              "                                                    [key], {});\n",
              "        if (!dataTable) return;\n",
              "\n",
              "        const docLinkHtml = 'Like what you see? Visit the ' +\n",
              "          '<a target=\"_blank\" href=https://colab.research.google.com/notebooks/data_table.ipynb>data table notebook</a>'\n",
              "          + ' to learn more about interactive tables.';\n",
              "        element.innerHTML = '';\n",
              "        dataTable['output_type'] = 'display_data';\n",
              "        await google.colab.output.renderOutput(dataTable, element);\n",
              "        const docLink = document.createElement('div');\n",
              "        docLink.innerHTML = docLinkHtml;\n",
              "        element.appendChild(docLink);\n",
              "      }\n",
              "    </script>\n",
              "  </div>\n",
              "\n",
              "\n",
              "<div id=\"df-44f09681-b90c-489c-bef7-f683cc84b99a\">\n",
              "  <button class=\"colab-df-quickchart\" onclick=\"quickchart('df-44f09681-b90c-489c-bef7-f683cc84b99a')\"\n",
              "            title=\"Suggest charts\"\n",
              "            style=\"display:none;\">\n",
              "\n",
              "<svg xmlns=\"http://www.w3.org/2000/svg\" height=\"24px\"viewBox=\"0 0 24 24\"\n",
              "     width=\"24px\">\n",
              "    <g>\n",
              "        <path d=\"M19 3H5c-1.1 0-2 .9-2 2v14c0 1.1.9 2 2 2h14c1.1 0 2-.9 2-2V5c0-1.1-.9-2-2-2zM9 17H7v-7h2v7zm4 0h-2V7h2v10zm4 0h-2v-4h2v4z\"/>\n",
              "    </g>\n",
              "</svg>\n",
              "  </button>\n",
              "\n",
              "<style>\n",
              "  .colab-df-quickchart {\n",
              "      --bg-color: #E8F0FE;\n",
              "      --fill-color: #1967D2;\n",
              "      --hover-bg-color: #E2EBFA;\n",
              "      --hover-fill-color: #174EA6;\n",
              "      --disabled-fill-color: #AAA;\n",
              "      --disabled-bg-color: #DDD;\n",
              "  }\n",
              "\n",
              "  [theme=dark] .colab-df-quickchart {\n",
              "      --bg-color: #3B4455;\n",
              "      --fill-color: #D2E3FC;\n",
              "      --hover-bg-color: #434B5C;\n",
              "      --hover-fill-color: #FFFFFF;\n",
              "      --disabled-bg-color: #3B4455;\n",
              "      --disabled-fill-color: #666;\n",
              "  }\n",
              "\n",
              "  .colab-df-quickchart {\n",
              "    background-color: var(--bg-color);\n",
              "    border: none;\n",
              "    border-radius: 50%;\n",
              "    cursor: pointer;\n",
              "    display: none;\n",
              "    fill: var(--fill-color);\n",
              "    height: 32px;\n",
              "    padding: 0;\n",
              "    width: 32px;\n",
              "  }\n",
              "\n",
              "  .colab-df-quickchart:hover {\n",
              "    background-color: var(--hover-bg-color);\n",
              "    box-shadow: 0 1px 2px rgba(60, 64, 67, 0.3), 0 1px 3px 1px rgba(60, 64, 67, 0.15);\n",
              "    fill: var(--button-hover-fill-color);\n",
              "  }\n",
              "\n",
              "  .colab-df-quickchart-complete:disabled,\n",
              "  .colab-df-quickchart-complete:disabled:hover {\n",
              "    background-color: var(--disabled-bg-color);\n",
              "    fill: var(--disabled-fill-color);\n",
              "    box-shadow: none;\n",
              "  }\n",
              "\n",
              "  .colab-df-spinner {\n",
              "    border: 2px solid var(--fill-color);\n",
              "    border-color: transparent;\n",
              "    border-bottom-color: var(--fill-color);\n",
              "    animation:\n",
              "      spin 1s steps(1) infinite;\n",
              "  }\n",
              "\n",
              "  @keyframes spin {\n",
              "    0% {\n",
              "      border-color: transparent;\n",
              "      border-bottom-color: var(--fill-color);\n",
              "      border-left-color: var(--fill-color);\n",
              "    }\n",
              "    20% {\n",
              "      border-color: transparent;\n",
              "      border-left-color: var(--fill-color);\n",
              "      border-top-color: var(--fill-color);\n",
              "    }\n",
              "    30% {\n",
              "      border-color: transparent;\n",
              "      border-left-color: var(--fill-color);\n",
              "      border-top-color: var(--fill-color);\n",
              "      border-right-color: var(--fill-color);\n",
              "    }\n",
              "    40% {\n",
              "      border-color: transparent;\n",
              "      border-right-color: var(--fill-color);\n",
              "      border-top-color: var(--fill-color);\n",
              "    }\n",
              "    60% {\n",
              "      border-color: transparent;\n",
              "      border-right-color: var(--fill-color);\n",
              "    }\n",
              "    80% {\n",
              "      border-color: transparent;\n",
              "      border-right-color: var(--fill-color);\n",
              "      border-bottom-color: var(--fill-color);\n",
              "    }\n",
              "    90% {\n",
              "      border-color: transparent;\n",
              "      border-bottom-color: var(--fill-color);\n",
              "    }\n",
              "  }\n",
              "</style>\n",
              "\n",
              "  <script>\n",
              "    async function quickchart(key) {\n",
              "      const quickchartButtonEl =\n",
              "        document.querySelector('#' + key + ' button');\n",
              "      quickchartButtonEl.disabled = true;  // To prevent multiple clicks.\n",
              "      quickchartButtonEl.classList.add('colab-df-spinner');\n",
              "      try {\n",
              "        const charts = await google.colab.kernel.invokeFunction(\n",
              "            'suggestCharts', [key], {});\n",
              "      } catch (error) {\n",
              "        console.error('Error during call to suggestCharts:', error);\n",
              "      }\n",
              "      quickchartButtonEl.classList.remove('colab-df-spinner');\n",
              "      quickchartButtonEl.classList.add('colab-df-quickchart-complete');\n",
              "    }\n",
              "    (() => {\n",
              "      let quickchartButtonEl =\n",
              "        document.querySelector('#df-44f09681-b90c-489c-bef7-f683cc84b99a button');\n",
              "      quickchartButtonEl.style.display =\n",
              "        google.colab.kernel.accessAllowed ? 'block' : 'none';\n",
              "    })();\n",
              "  </script>\n",
              "</div>\n",
              "\n",
              "    </div>\n",
              "  </div>\n"
            ],
            "application/vnd.google.colaboratory.intrinsic+json": {
              "type": "dataframe"
            }
          },
          "metadata": {},
          "execution_count": 7
        }
      ]
    },
    {
      "cell_type": "code",
      "source": [
        "df.head(5)"
      ],
      "metadata": {
        "colab": {
          "base_uri": "https://localhost:8080/",
          "height": 360
        },
        "id": "qPjbRe9Kcps-",
        "outputId": "a8153a9f-c20b-44db-8559-e66df7693005"
      },
      "execution_count": null,
      "outputs": [
        {
          "output_type": "execute_result",
          "data": {
            "text/plain": [
              "     food_category food_department food_family  store_sales(in millions)  \\\n",
              "0  Breakfast Foods    Frozen Foods        Food                      7.36   \n",
              "1  Breakfast Foods    Frozen Foods        Food                      5.52   \n",
              "2  Breakfast Foods    Frozen Foods        Food                      3.68   \n",
              "3  Breakfast Foods    Frozen Foods        Food                      3.68   \n",
              "4  Breakfast Foods    Frozen Foods        Food                      4.08   \n",
              "\n",
              "   store_cost(in millions)  unit_sales(in millions)         promotion_name  \\\n",
              "0                   2.7232                      4.0           Bag Stuffers   \n",
              "1                   2.5944                      3.0  Cash Register Lottery   \n",
              "2                   1.3616                      2.0    High Roller Savings   \n",
              "3                   1.1776                      2.0  Cash Register Lottery   \n",
              "4                   1.4280                      3.0       Double Down Sale   \n",
              "\n",
              "  sales_country marital_status gender  ...  grocery_sqft frozen_sqft  \\\n",
              "0           USA              M      F  ...       18670.0      5415.0   \n",
              "1           USA              M      M  ...       18670.0      5415.0   \n",
              "2           USA              S      F  ...       18670.0      5415.0   \n",
              "3           USA              M      F  ...       18670.0      5415.0   \n",
              "4           USA              M      M  ...       18670.0      5415.0   \n",
              "\n",
              "  meat_sqft coffee_bar video_store  salad_bar prepared_food  florist  \\\n",
              "0    3610.0        1.0         1.0        1.0           1.0      1.0   \n",
              "1    3610.0        1.0         1.0        1.0           1.0      1.0   \n",
              "2    3610.0        1.0         1.0        1.0           1.0      1.0   \n",
              "3    3610.0        1.0         1.0        1.0           1.0      1.0   \n",
              "4    3610.0        1.0         1.0        1.0           1.0      1.0   \n",
              "\n",
              "           media_type    cost  \n",
              "0  Daily Paper, Radio  126.62  \n",
              "1  Daily Paper, Radio   59.86  \n",
              "2  Daily Paper, Radio   84.16  \n",
              "3     In-Store Coupon   95.78  \n",
              "4               Radio   50.79  \n",
              "\n",
              "[5 rows x 40 columns]"
            ],
            "text/html": [
              "\n",
              "  <div id=\"df-d811f8c9-2243-4db0-89d7-de35691cdbfc\" class=\"colab-df-container\">\n",
              "    <div>\n",
              "<style scoped>\n",
              "    .dataframe tbody tr th:only-of-type {\n",
              "        vertical-align: middle;\n",
              "    }\n",
              "\n",
              "    .dataframe tbody tr th {\n",
              "        vertical-align: top;\n",
              "    }\n",
              "\n",
              "    .dataframe thead th {\n",
              "        text-align: right;\n",
              "    }\n",
              "</style>\n",
              "<table border=\"1\" class=\"dataframe\">\n",
              "  <thead>\n",
              "    <tr style=\"text-align: right;\">\n",
              "      <th></th>\n",
              "      <th>food_category</th>\n",
              "      <th>food_department</th>\n",
              "      <th>food_family</th>\n",
              "      <th>store_sales(in millions)</th>\n",
              "      <th>store_cost(in millions)</th>\n",
              "      <th>unit_sales(in millions)</th>\n",
              "      <th>promotion_name</th>\n",
              "      <th>sales_country</th>\n",
              "      <th>marital_status</th>\n",
              "      <th>gender</th>\n",
              "      <th>...</th>\n",
              "      <th>grocery_sqft</th>\n",
              "      <th>frozen_sqft</th>\n",
              "      <th>meat_sqft</th>\n",
              "      <th>coffee_bar</th>\n",
              "      <th>video_store</th>\n",
              "      <th>salad_bar</th>\n",
              "      <th>prepared_food</th>\n",
              "      <th>florist</th>\n",
              "      <th>media_type</th>\n",
              "      <th>cost</th>\n",
              "    </tr>\n",
              "  </thead>\n",
              "  <tbody>\n",
              "    <tr>\n",
              "      <th>0</th>\n",
              "      <td>Breakfast Foods</td>\n",
              "      <td>Frozen Foods</td>\n",
              "      <td>Food</td>\n",
              "      <td>7.36</td>\n",
              "      <td>2.7232</td>\n",
              "      <td>4.0</td>\n",
              "      <td>Bag Stuffers</td>\n",
              "      <td>USA</td>\n",
              "      <td>M</td>\n",
              "      <td>F</td>\n",
              "      <td>...</td>\n",
              "      <td>18670.0</td>\n",
              "      <td>5415.0</td>\n",
              "      <td>3610.0</td>\n",
              "      <td>1.0</td>\n",
              "      <td>1.0</td>\n",
              "      <td>1.0</td>\n",
              "      <td>1.0</td>\n",
              "      <td>1.0</td>\n",
              "      <td>Daily Paper, Radio</td>\n",
              "      <td>126.62</td>\n",
              "    </tr>\n",
              "    <tr>\n",
              "      <th>1</th>\n",
              "      <td>Breakfast Foods</td>\n",
              "      <td>Frozen Foods</td>\n",
              "      <td>Food</td>\n",
              "      <td>5.52</td>\n",
              "      <td>2.5944</td>\n",
              "      <td>3.0</td>\n",
              "      <td>Cash Register Lottery</td>\n",
              "      <td>USA</td>\n",
              "      <td>M</td>\n",
              "      <td>M</td>\n",
              "      <td>...</td>\n",
              "      <td>18670.0</td>\n",
              "      <td>5415.0</td>\n",
              "      <td>3610.0</td>\n",
              "      <td>1.0</td>\n",
              "      <td>1.0</td>\n",
              "      <td>1.0</td>\n",
              "      <td>1.0</td>\n",
              "      <td>1.0</td>\n",
              "      <td>Daily Paper, Radio</td>\n",
              "      <td>59.86</td>\n",
              "    </tr>\n",
              "    <tr>\n",
              "      <th>2</th>\n",
              "      <td>Breakfast Foods</td>\n",
              "      <td>Frozen Foods</td>\n",
              "      <td>Food</td>\n",
              "      <td>3.68</td>\n",
              "      <td>1.3616</td>\n",
              "      <td>2.0</td>\n",
              "      <td>High Roller Savings</td>\n",
              "      <td>USA</td>\n",
              "      <td>S</td>\n",
              "      <td>F</td>\n",
              "      <td>...</td>\n",
              "      <td>18670.0</td>\n",
              "      <td>5415.0</td>\n",
              "      <td>3610.0</td>\n",
              "      <td>1.0</td>\n",
              "      <td>1.0</td>\n",
              "      <td>1.0</td>\n",
              "      <td>1.0</td>\n",
              "      <td>1.0</td>\n",
              "      <td>Daily Paper, Radio</td>\n",
              "      <td>84.16</td>\n",
              "    </tr>\n",
              "    <tr>\n",
              "      <th>3</th>\n",
              "      <td>Breakfast Foods</td>\n",
              "      <td>Frozen Foods</td>\n",
              "      <td>Food</td>\n",
              "      <td>3.68</td>\n",
              "      <td>1.1776</td>\n",
              "      <td>2.0</td>\n",
              "      <td>Cash Register Lottery</td>\n",
              "      <td>USA</td>\n",
              "      <td>M</td>\n",
              "      <td>F</td>\n",
              "      <td>...</td>\n",
              "      <td>18670.0</td>\n",
              "      <td>5415.0</td>\n",
              "      <td>3610.0</td>\n",
              "      <td>1.0</td>\n",
              "      <td>1.0</td>\n",
              "      <td>1.0</td>\n",
              "      <td>1.0</td>\n",
              "      <td>1.0</td>\n",
              "      <td>In-Store Coupon</td>\n",
              "      <td>95.78</td>\n",
              "    </tr>\n",
              "    <tr>\n",
              "      <th>4</th>\n",
              "      <td>Breakfast Foods</td>\n",
              "      <td>Frozen Foods</td>\n",
              "      <td>Food</td>\n",
              "      <td>4.08</td>\n",
              "      <td>1.4280</td>\n",
              "      <td>3.0</td>\n",
              "      <td>Double Down Sale</td>\n",
              "      <td>USA</td>\n",
              "      <td>M</td>\n",
              "      <td>M</td>\n",
              "      <td>...</td>\n",
              "      <td>18670.0</td>\n",
              "      <td>5415.0</td>\n",
              "      <td>3610.0</td>\n",
              "      <td>1.0</td>\n",
              "      <td>1.0</td>\n",
              "      <td>1.0</td>\n",
              "      <td>1.0</td>\n",
              "      <td>1.0</td>\n",
              "      <td>Radio</td>\n",
              "      <td>50.79</td>\n",
              "    </tr>\n",
              "  </tbody>\n",
              "</table>\n",
              "<p>5 rows × 40 columns</p>\n",
              "</div>\n",
              "    <div class=\"colab-df-buttons\">\n",
              "\n",
              "  <div class=\"colab-df-container\">\n",
              "    <button class=\"colab-df-convert\" onclick=\"convertToInteractive('df-d811f8c9-2243-4db0-89d7-de35691cdbfc')\"\n",
              "            title=\"Convert this dataframe to an interactive table.\"\n",
              "            style=\"display:none;\">\n",
              "\n",
              "  <svg xmlns=\"http://www.w3.org/2000/svg\" height=\"24px\" viewBox=\"0 -960 960 960\">\n",
              "    <path d=\"M120-120v-720h720v720H120Zm60-500h600v-160H180v160Zm220 220h160v-160H400v160Zm0 220h160v-160H400v160ZM180-400h160v-160H180v160Zm440 0h160v-160H620v160ZM180-180h160v-160H180v160Zm440 0h160v-160H620v160Z\"/>\n",
              "  </svg>\n",
              "    </button>\n",
              "\n",
              "  <style>\n",
              "    .colab-df-container {\n",
              "      display:flex;\n",
              "      gap: 12px;\n",
              "    }\n",
              "\n",
              "    .colab-df-convert {\n",
              "      background-color: #E8F0FE;\n",
              "      border: none;\n",
              "      border-radius: 50%;\n",
              "      cursor: pointer;\n",
              "      display: none;\n",
              "      fill: #1967D2;\n",
              "      height: 32px;\n",
              "      padding: 0 0 0 0;\n",
              "      width: 32px;\n",
              "    }\n",
              "\n",
              "    .colab-df-convert:hover {\n",
              "      background-color: #E2EBFA;\n",
              "      box-shadow: 0px 1px 2px rgba(60, 64, 67, 0.3), 0px 1px 3px 1px rgba(60, 64, 67, 0.15);\n",
              "      fill: #174EA6;\n",
              "    }\n",
              "\n",
              "    .colab-df-buttons div {\n",
              "      margin-bottom: 4px;\n",
              "    }\n",
              "\n",
              "    [theme=dark] .colab-df-convert {\n",
              "      background-color: #3B4455;\n",
              "      fill: #D2E3FC;\n",
              "    }\n",
              "\n",
              "    [theme=dark] .colab-df-convert:hover {\n",
              "      background-color: #434B5C;\n",
              "      box-shadow: 0px 1px 3px 1px rgba(0, 0, 0, 0.15);\n",
              "      filter: drop-shadow(0px 1px 2px rgba(0, 0, 0, 0.3));\n",
              "      fill: #FFFFFF;\n",
              "    }\n",
              "  </style>\n",
              "\n",
              "    <script>\n",
              "      const buttonEl =\n",
              "        document.querySelector('#df-d811f8c9-2243-4db0-89d7-de35691cdbfc button.colab-df-convert');\n",
              "      buttonEl.style.display =\n",
              "        google.colab.kernel.accessAllowed ? 'block' : 'none';\n",
              "\n",
              "      async function convertToInteractive(key) {\n",
              "        const element = document.querySelector('#df-d811f8c9-2243-4db0-89d7-de35691cdbfc');\n",
              "        const dataTable =\n",
              "          await google.colab.kernel.invokeFunction('convertToInteractive',\n",
              "                                                    [key], {});\n",
              "        if (!dataTable) return;\n",
              "\n",
              "        const docLinkHtml = 'Like what you see? Visit the ' +\n",
              "          '<a target=\"_blank\" href=https://colab.research.google.com/notebooks/data_table.ipynb>data table notebook</a>'\n",
              "          + ' to learn more about interactive tables.';\n",
              "        element.innerHTML = '';\n",
              "        dataTable['output_type'] = 'display_data';\n",
              "        await google.colab.output.renderOutput(dataTable, element);\n",
              "        const docLink = document.createElement('div');\n",
              "        docLink.innerHTML = docLinkHtml;\n",
              "        element.appendChild(docLink);\n",
              "      }\n",
              "    </script>\n",
              "  </div>\n",
              "\n",
              "\n",
              "<div id=\"df-be61ef48-8fea-42b8-8e66-f63394fe06e4\">\n",
              "  <button class=\"colab-df-quickchart\" onclick=\"quickchart('df-be61ef48-8fea-42b8-8e66-f63394fe06e4')\"\n",
              "            title=\"Suggest charts\"\n",
              "            style=\"display:none;\">\n",
              "\n",
              "<svg xmlns=\"http://www.w3.org/2000/svg\" height=\"24px\"viewBox=\"0 0 24 24\"\n",
              "     width=\"24px\">\n",
              "    <g>\n",
              "        <path d=\"M19 3H5c-1.1 0-2 .9-2 2v14c0 1.1.9 2 2 2h14c1.1 0 2-.9 2-2V5c0-1.1-.9-2-2-2zM9 17H7v-7h2v7zm4 0h-2V7h2v10zm4 0h-2v-4h2v4z\"/>\n",
              "    </g>\n",
              "</svg>\n",
              "  </button>\n",
              "\n",
              "<style>\n",
              "  .colab-df-quickchart {\n",
              "      --bg-color: #E8F0FE;\n",
              "      --fill-color: #1967D2;\n",
              "      --hover-bg-color: #E2EBFA;\n",
              "      --hover-fill-color: #174EA6;\n",
              "      --disabled-fill-color: #AAA;\n",
              "      --disabled-bg-color: #DDD;\n",
              "  }\n",
              "\n",
              "  [theme=dark] .colab-df-quickchart {\n",
              "      --bg-color: #3B4455;\n",
              "      --fill-color: #D2E3FC;\n",
              "      --hover-bg-color: #434B5C;\n",
              "      --hover-fill-color: #FFFFFF;\n",
              "      --disabled-bg-color: #3B4455;\n",
              "      --disabled-fill-color: #666;\n",
              "  }\n",
              "\n",
              "  .colab-df-quickchart {\n",
              "    background-color: var(--bg-color);\n",
              "    border: none;\n",
              "    border-radius: 50%;\n",
              "    cursor: pointer;\n",
              "    display: none;\n",
              "    fill: var(--fill-color);\n",
              "    height: 32px;\n",
              "    padding: 0;\n",
              "    width: 32px;\n",
              "  }\n",
              "\n",
              "  .colab-df-quickchart:hover {\n",
              "    background-color: var(--hover-bg-color);\n",
              "    box-shadow: 0 1px 2px rgba(60, 64, 67, 0.3), 0 1px 3px 1px rgba(60, 64, 67, 0.15);\n",
              "    fill: var(--button-hover-fill-color);\n",
              "  }\n",
              "\n",
              "  .colab-df-quickchart-complete:disabled,\n",
              "  .colab-df-quickchart-complete:disabled:hover {\n",
              "    background-color: var(--disabled-bg-color);\n",
              "    fill: var(--disabled-fill-color);\n",
              "    box-shadow: none;\n",
              "  }\n",
              "\n",
              "  .colab-df-spinner {\n",
              "    border: 2px solid var(--fill-color);\n",
              "    border-color: transparent;\n",
              "    border-bottom-color: var(--fill-color);\n",
              "    animation:\n",
              "      spin 1s steps(1) infinite;\n",
              "  }\n",
              "\n",
              "  @keyframes spin {\n",
              "    0% {\n",
              "      border-color: transparent;\n",
              "      border-bottom-color: var(--fill-color);\n",
              "      border-left-color: var(--fill-color);\n",
              "    }\n",
              "    20% {\n",
              "      border-color: transparent;\n",
              "      border-left-color: var(--fill-color);\n",
              "      border-top-color: var(--fill-color);\n",
              "    }\n",
              "    30% {\n",
              "      border-color: transparent;\n",
              "      border-left-color: var(--fill-color);\n",
              "      border-top-color: var(--fill-color);\n",
              "      border-right-color: var(--fill-color);\n",
              "    }\n",
              "    40% {\n",
              "      border-color: transparent;\n",
              "      border-right-color: var(--fill-color);\n",
              "      border-top-color: var(--fill-color);\n",
              "    }\n",
              "    60% {\n",
              "      border-color: transparent;\n",
              "      border-right-color: var(--fill-color);\n",
              "    }\n",
              "    80% {\n",
              "      border-color: transparent;\n",
              "      border-right-color: var(--fill-color);\n",
              "      border-bottom-color: var(--fill-color);\n",
              "    }\n",
              "    90% {\n",
              "      border-color: transparent;\n",
              "      border-bottom-color: var(--fill-color);\n",
              "    }\n",
              "  }\n",
              "</style>\n",
              "\n",
              "  <script>\n",
              "    async function quickchart(key) {\n",
              "      const quickchartButtonEl =\n",
              "        document.querySelector('#' + key + ' button');\n",
              "      quickchartButtonEl.disabled = true;  // To prevent multiple clicks.\n",
              "      quickchartButtonEl.classList.add('colab-df-spinner');\n",
              "      try {\n",
              "        const charts = await google.colab.kernel.invokeFunction(\n",
              "            'suggestCharts', [key], {});\n",
              "      } catch (error) {\n",
              "        console.error('Error during call to suggestCharts:', error);\n",
              "      }\n",
              "      quickchartButtonEl.classList.remove('colab-df-spinner');\n",
              "      quickchartButtonEl.classList.add('colab-df-quickchart-complete');\n",
              "    }\n",
              "    (() => {\n",
              "      let quickchartButtonEl =\n",
              "        document.querySelector('#df-be61ef48-8fea-42b8-8e66-f63394fe06e4 button');\n",
              "      quickchartButtonEl.style.display =\n",
              "        google.colab.kernel.accessAllowed ? 'block' : 'none';\n",
              "    })();\n",
              "  </script>\n",
              "</div>\n",
              "\n",
              "    </div>\n",
              "  </div>\n"
            ],
            "application/vnd.google.colaboratory.intrinsic+json": {
              "type": "dataframe",
              "variable_name": "df"
            }
          },
          "metadata": {},
          "execution_count": 8
        }
      ]
    },
    {
      "cell_type": "code",
      "source": [
        "print (df.columns)"
      ],
      "metadata": {
        "colab": {
          "base_uri": "https://localhost:8080/"
        },
        "id": "gGDPumRdoHwJ",
        "outputId": "9a041a1b-6ea3-4e84-a4c4-557a303d3906"
      },
      "execution_count": null,
      "outputs": [
        {
          "output_type": "stream",
          "name": "stdout",
          "text": [
            "Index(['food_category', 'food_department', 'food_family',\n",
            "       'store_sales(in millions)', 'store_cost(in millions)',\n",
            "       'unit_sales(in millions)', 'promotion_name', 'sales_country',\n",
            "       'marital_status', 'gender', 'total_children', 'education',\n",
            "       'member_card', 'occupation', 'houseowner', 'avg_cars_at home(approx)',\n",
            "       'avg. yearly_income', 'num_children_at_home',\n",
            "       'avg_cars_at home(approx).1', 'brand_name', 'SRP', 'gross_weight',\n",
            "       'net_weight', 'recyclable_package', 'low_fat', 'units_per_case',\n",
            "       'store_type', 'store_city', 'store_state', 'store_sqft', 'grocery_sqft',\n",
            "       'frozen_sqft', 'meat_sqft', 'coffee_bar', 'video_store', 'salad_bar',\n",
            "       'prepared_food', 'florist', 'media_type', 'cost'],\n",
            "      dtype='object')\n"
          ]
        }
      ]
    },
    {
      "cell_type": "markdown",
      "source": [
        "###ANÁLSIS DE DATOS PREVIO AL PLANTEO DE HIPOTESIS"
      ],
      "metadata": {
        "id": "Yl3e__j4e_27"
      }
    },
    {
      "cell_type": "code",
      "source": [
        "# Calcular el porcentaje de género F y M\n",
        "gender_counts = df['gender'].value_counts(normalize=True) * 100\n",
        "\n",
        "# Crear gráfico de anillo\n",
        "fig, ax = plt.subplots()\n",
        "ax.pie(gender_counts, labels=gender_counts.index, autopct='%1.1f%%', startangle=90, wedgeprops=dict(width=0.3))\n",
        "\n",
        "# Título del gráfico\n",
        "plt.title('Distribución de Clientes por Género')\n",
        "\n",
        "# Mostrar gráfico\n",
        "plt.show()"
      ],
      "metadata": {
        "colab": {
          "base_uri": "https://localhost:8080/",
          "height": 429
        },
        "id": "K16itcJjfIZ-",
        "outputId": "186761b8-04fb-4ffa-a697-e1d34628e4d3"
      },
      "execution_count": null,
      "outputs": [
        {
          "output_type": "display_data",
          "data": {
            "text/plain": [
              "<Figure size 640x480 with 1 Axes>"
            ],
            "image/png": "[encoded data removed]"
          },
          "metadata": {}
        }
      ]
    },
    {
      "cell_type": "code",
      "source": [
        "# Contar la cantidad de gente por cantidad de hijos\n",
        "children_counts = df['total_children'].value_counts().sort_index()\n",
        "\n",
        "# Crear gráfico de barras horizontales\n",
        "fig, ax = plt.subplots()\n",
        "children_counts.plot(kind='barh', ax=ax)\n",
        "\n",
        "# Título y etiquetas del gráfico\n",
        "ax.set_title('Cuantos hijos tienen nuestros clientes')\n",
        "ax.set_xlabel('Cantidad de Gente')\n",
        "ax.set_ylabel('Cantidad de Hijos')\n",
        "\n",
        "# Mostrar gráfico\n",
        "plt.show()"
      ],
      "metadata": {
        "colab": {
          "base_uri": "https://localhost:8080/",
          "height": 472
        },
        "id": "NHDWR6ogh6Ei",
        "outputId": "684d36ef-3411-415b-dd7b-d95d30ffb956"
      },
      "execution_count": null,
      "outputs": [
        {
          "output_type": "display_data",
          "data": {
            "text/plain": [
              "<Figure size 640x480 with 1 Axes>"
            ],
            "image/png": "[encoded data removed]"
          },
          "metadata": {}
        }
      ]
    },
    {
      "cell_type": "code",
      "source": [
        "# Calcular el total de ventas por nombre de promoción\n",
        "promotion_sales = df.groupby('promotion_name')['store_sales(in millions)'].sum()\n",
        "\n",
        "# Obtener los 5 nombres de promoción con más ventas\n",
        "top_5_promotions = promotion_sales.nlargest(5)\n",
        "\n",
        "# Crear gráfico de barras\n",
        "fig, ax = plt.subplots()\n",
        "top_5_promotions.plot(kind='bar', ax=ax)\n",
        "\n",
        "# Título y etiquetas del gráfico\n",
        "ax.set_title('Top 5 Promociones con mayores Ventas')\n",
        "ax.set_xlabel('Nombre de Promoción')\n",
        "ax.set_ylabel('Ventas en Tienda (en millones)')\n",
        "\n",
        "# Mostrar gráfico\n",
        "plt.show()"
      ],
      "metadata": {
        "colab": {
          "base_uri": "https://localhost:8080/",
          "height": 598
        },
        "id": "rYtEDQaEjW6Z",
        "outputId": "3395854a-3d80-40d6-f380-e115994f1382"
      },
      "execution_count": null,
      "outputs": [
        {
          "output_type": "display_data",
          "data": {
            "text/plain": [
              "<Figure size 640x480 with 1 Axes>"
            ],
            "image/png": "[encoded data removed]"
          },
          "metadata": {}
        }
      ]
    },
    {
      "cell_type": "markdown",
      "source": [
        "### HIPOTESIS PLANTEADAS"
      ],
      "metadata": {
        "id": "-jHLELTLQtyA"
      }
    },
    {
      "cell_type": "markdown",
      "source": [
        "1. En relación a la totalidad de productos consumidos, las personas de género femeninos consumen una mayor proporción de productos bajo en grasas en comparación a las de género masculino.\n",
        "2. A mayor cantidad de hijos compran productos de mayor unidades por caja.\n",
        "3. Los propietarios de viviendas están más inclinados a comprar en tiendas que tienen vivero en comparación con los inquilinos.\n",
        "4. Los productos con empaques reciclables tienen un costo promocional diferente al de los productos no reciclables.\n",
        "\n"
      ],
      "metadata": {
        "id": "8EtSjZckQ127"
      }
    },
    {
      "cell_type": "markdown",
      "source": [
        "HIPOTESIS 1: *Proporción de productos bajos en grasa por género*\n"
      ],
      "metadata": {
        "id": "OJUWhs3mg-CJ"
      }
    },
    {
      "cell_type": "code",
      "source": [
        "df['low_fat'] = df['low_fat'].astype(int)\n",
        "gender_low_fat = df.groupby('gender')['low_fat'].mean()\n",
        "print(\"Proporción de productos bajos en grasa por género:\")\n",
        "print(gender_low_fat)"
      ],
      "metadata": {
        "colab": {
          "base_uri": "https://localhost:8080/"
        },
        "id": "ShDna7okhBjY",
        "outputId": "0246757f-ce14-4c17-88dd-87b87c5f6bcc"
      },
      "execution_count": null,
      "outputs": [
        {
          "output_type": "stream",
          "name": "stdout",
          "text": [
            "Proporción de productos bajos en grasa por género:\n",
            "gender\n",
            "F    0.356053\n",
            "M    0.344536\n",
            "Name: low_fat, dtype: float64\n"
          ]
        }
      ]
    },
    {
      "cell_type": "code",
      "source": [
        "plt.subplot(2, 2, 1)\n",
        "sb.barplot(x=gender_low_fat.index, y=gender_low_fat.values)\n",
        "plt.title('Proporción de productos bajos en grasa por género')"
      ],
      "metadata": {
        "colab": {
          "base_uri": "https://localhost:8080/",
          "height": 288
        },
        "id": "1nkXnYX_hKq2",
        "outputId": "1ed93a74-d206-4812-afba-4d9dd9295d9a"
      },
      "execution_count": null,
      "outputs": [
        {
          "output_type": "execute_result",
          "data": {
            "text/plain": [
              "Text(0.5, 1.0, 'Proporción de productos bajos en grasa por género')"
            ]
          },
          "metadata": {},
          "execution_count": 33
        },
        {
          "output_type": "display_data",
          "data": {
            "text/plain": [
              "<Figure size 640x480 with 1 Axes>"
            ],
            "image/png": "[encoded data removed]"
          },
          "metadata": {}
        }
      ]
    },
    {
      "cell_type": "markdown",
      "source": [
        "HIPOTESIS 2: Relación entre cantidad de hijos y unidades por caja"
      ],
      "metadata": {
        "id": "DeV6GHn7jnyU"
      }
    },
    {
      "cell_type": "code",
      "source": [
        "children_units_per_case = df.groupby('total_children')['units_per_case'].mean()\n",
        "print(\"\\nRelación entre cantidad de hijos y unidades por caja:\")\n",
        "print(children_units_per_case)\n",
        "\n",
        "plt.subplot(2, 2, 3)\n",
        "sb.barplot(x=children_units_per_case.index, y=children_units_per_case.values)\n",
        "plt.title('Relación entre cantidad de hijos y unidades por caja')"
      ],
      "metadata": {
        "colab": {
          "base_uri": "https://localhost:8080/",
          "height": 462
        },
        "id": "9w7CIG1sjXko",
        "outputId": "3028b7a3-7d64-4cc0-ee36-1fe8eeabd40c"
      },
      "execution_count": null,
      "outputs": [
        {
          "output_type": "stream",
          "name": "stdout",
          "text": [
            "\n",
            "Relación entre cantidad de hijos y unidades por caja:\n",
            "total_children\n",
            "0.0    18.866999\n",
            "1.0    18.822770\n",
            "2.0    18.852133\n",
            "3.0    18.791964\n",
            "4.0    18.976342\n",
            "5.0    18.844520\n",
            "Name: units_per_case, dtype: float64\n"
          ]
        },
        {
          "output_type": "execute_result",
          "data": {
            "text/plain": [
              "Text(0.5, 1.0, 'Relación entre cantidad de hijos y unidades por caja')"
            ]
          },
          "metadata": {},
          "execution_count": 11
        },
        {
          "output_type": "display_data",
          "data": {
            "text/plain": [
              "<Figure size 640x480 with 1 Axes>"
            ],
            "image/png": "[encoded data removed]"
          },
          "metadata": {}
        }
      ]
    },
    {
      "cell_type": "markdown",
      "source": [
        "HIPOTESIS 3: Preferencia de tiendas con vivero por propietarios vs inquilinos"
      ],
      "metadata": {
        "id": "x-Dm8SjIoxEe"
      }
    },
    {
      "cell_type": "code",
      "source": [
        "houseowner_florist = df.groupby('houseowner')['florist'].mean()\n",
        "print(\"\\nPreferencia de tiendas con vivero por propietarios vs inquilinos:\")\n",
        "print(houseowner_florist)\n",
        "\n",
        "plt.subplot(2, 2, 1)\n",
        "sb.barplot(x=houseowner_florist.index, y=houseowner_florist.values)\n",
        "plt.title('Preferencia de tiendas con vivero por propietarios vs inquilinos')"
      ],
      "metadata": {
        "colab": {
          "base_uri": "https://localhost:8080/",
          "height": 392
        },
        "id": "brrZdSmsq1R4",
        "outputId": "6592781f-c6f7-4f05-803f-0f09b1e4ef8f"
      },
      "execution_count": null,
      "outputs": [
        {
          "output_type": "stream",
          "name": "stdout",
          "text": [
            "\n",
            "Preferencia de tiendas con vivero por propietarios vs inquilinos:\n",
            "houseowner\n",
            "N    0.562087\n",
            "Y    0.562942\n",
            "Name: florist, dtype: float64\n"
          ]
        },
        {
          "output_type": "execute_result",
          "data": {
            "text/plain": [
              "Text(0.5, 1.0, 'Preferencia de tiendas con vivero por propietarios vs inquilinos')"
            ]
          },
          "metadata": {},
          "execution_count": 42
        },
        {
          "output_type": "display_data",
          "data": {
            "text/plain": [
              "<Figure size 640x480 with 1 Axes>"
            ],
            "image/png": "[encoded data removed]"
          },
          "metadata": {}
        }
      ]
    },
    {
      "cell_type": "markdown",
      "source": [
        "HIPOTESIS 4: Costo promocional de productos reciclables vs no reciclables"
      ],
      "metadata": {
        "id": "R5-MvWDbowyZ"
      }
    },
    {
      "cell_type": "code",
      "source": [
        "recyclable_cost = df.groupby('recyclable_package')['cost'].mean()\n",
        "print(\"\\nCosto promocional de productos reciclables vs no reciclables:\")\n",
        "print(recyclable_cost)\n",
        "\n",
        "plt.subplot(2, 2, 3)\n",
        "sb.boxplot(x='recyclable_package', y='cost', data=df)\n",
        "plt.title('Costo promocional de productos reciclables vs no reciclables')"
      ],
      "metadata": {
        "colab": {
          "base_uri": "https://localhost:8080/",
          "height": 392
        },
        "id": "uQw7m1abq4FE",
        "outputId": "398615ea-ddd9-4175-d36f-b8322cc90c09"
      },
      "execution_count": null,
      "outputs": [
        {
          "output_type": "stream",
          "name": "stdout",
          "text": [
            "\n",
            "Costo promocional de productos reciclables vs no reciclables:\n",
            "recyclable_package\n",
            "0.0    99.320439\n",
            "1.0    99.216490\n",
            "Name: cost, dtype: float64\n"
          ]
        },
        {
          "output_type": "execute_result",
          "data": {
            "text/plain": [
              "Text(0.5, 1.0, 'Costo promocional de productos reciclables vs no reciclables')"
            ]
          },
          "metadata": {},
          "execution_count": 20
        },
        {
          "output_type": "display_data",
          "data": {
            "text/plain": [
              "<Figure size 640x480 with 1 Axes>"
            ],
            "image/png": "[encoded data removed]"
          },
          "metadata": {}
        }
      ]
    },
    {
      "cell_type": "markdown",
      "source": [
        "## **CONCLUSIÓN**"
      ],
      "metadata": {
        "id": "XRilQsmW1BhM"
      }
    },
    {
      "cell_type": "markdown",
      "source": [
        "A partir del análisis de las hipótesis planteadas, se pueden extraer las siguientes conclusiones:\n",
        "\n",
        "**Hipótesis 1**: El análisis muestra que las personas de género femenino consumen una proporción ligeramente mayor de productos bajos en grasa (35.6%) en comparación con las personas de género masculino (34.5%). Aunque la diferencia es pequeña, sugiere que las campañas de marketing que promueven productos bajos en grasa podrían ser ligeramente más efectivas si se dirigen específicamente a mujeres.\n",
        "\n",
        "\n",
        "**Hipótesis 2:** Los resultados no muestran una tendencia clara de aumento en las unidades por caja con el incremento en la cantidad de hijos. Las unidades por caja fluctúan ligeramente sin un patrón ascendente o descendente definido. Por lo tanto, no se puede concluir que la cantidad de hijos influya significativamente en la decisión de comprar productos en mayores cantidades por caja.\n",
        "\n",
        "\n",
        "**Hipótesis 3:** Los propietarios de viviendas muestran una preferencia ligeramente mayor por comprar en tiendas que tienen vivero (56.3%) en comparación con los inquilinos (56.2%). Aunque la diferencia es mínima, podría indicar una ligera inclinación de los propietarios hacia tiendas con vivero, posiblemente debido a que tienen más espacio para plantas y jardines.\n",
        "\n",
        "\n",
        "**Hipótesis 4:** Los productos con empaques reciclables tienen un costo promocional ligeramente menor (99.22) en comparación con los productos no reciclables (99.32). Aunque la diferencia es pequeña, sugiere que los productos reciclables no necesariamente implican un costo promocional más alto. Las campañas que promueven la sostenibilidad y el uso de empaques reciclables podrían no requerir un costo promocional significativamente diferente al de los productos no reciclables."
      ],
      "metadata": {
        "id": "KItKL7aL2F87"
      }
    },
    {
      "cell_type": "code",
      "source": [],
      "metadata": {
        "id": "s-OXYnZU2GWk"
      },
      "execution_count": null,
      "outputs": []
    }
  ]
}